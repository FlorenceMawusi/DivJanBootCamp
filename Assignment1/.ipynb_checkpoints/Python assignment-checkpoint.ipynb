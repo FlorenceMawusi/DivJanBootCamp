{
 "cells": [
  {
   "cell_type": "markdown",
   "metadata": {},
   "source": [
    "# Assignment"
   ]
  },
  {
   "cell_type": "markdown",
   "metadata": {},
   "source": [
    "### Florence Ofori"
   ]
  },
  {
   "cell_type": "code",
   "execution_count": 2,
   "metadata": {},
   "outputs": [],
   "source": [
    "pythonlist = ['Ama', 54, 'Kojo', 45.5, 'Yhup', 52, 'Kwame', 96, 'Kwesi', 87, 'Roland', True, 'Nti',\n",
    "             45, 78.5, 'William', 68, 45.3, 78, 'Patty', False, 98, True, 'Adwoa',21, 65, 'Pappy',\n",
    "             14, 'Folly', False, 52, 'Pency']"
   ]
  },
  {
   "cell_type": "markdown",
   "metadata": {},
   "source": [
    "1. create four empty lists:\n",
    "a. Floats\n",
    "b. Ints\n",
    "c. Strings\n",
    "d. Booleans\n"
   ]
  },
  {
   "cell_type": "code",
   "execution_count": 1,
   "metadata": {},
   "outputs": [],
   "source": [
    "Floats = []\n",
    "Ints = []\n",
    "Strings = []\n",
    "Booleans = []\n"
   ]
  },
  {
   "cell_type": "markdown",
   "metadata": {},
   "source": [
    "\n",
    "2. For each item in the \"pythonlist\", place it in the right set created above.\n",
    "\n",
    "3. For the strings and booleans sets, sort the items\n",
    "\n",
    "4. For the int set, print out the 3rd and 5th highest number\n",
    "\n",
    "5. For the float set, print out the 2nd largest number"
   ]
  },
  {
   "cell_type": "code",
   "execution_count": 6,
   "metadata": {},
   "outputs": [
    {
     "name": "stdout",
     "output_type": "stream",
     "text": [
      "Strings = ['Ama', 'Kojo', 'Yhup', 'Kwame', 'Kwesi', 'Roland', 'Ama', 'Kojo', 'Yhup', 'Kwame', 'Kwesi', 'Roland', 'Nti', 'William', 'Patty', 'Adwoa', 'Pappy', 'Folly', 'Pency']\n",
      "Ints = [54, 52, 96, 87, 54, 52, 96, 87, 45, 68, 78, 98, 21, 65, 14, 52]\n",
      "Floats = [45.5, 45.5, 78.5, 45.3]\n",
      "Booleans = [True, False, True, False]\n"
     ]
    }
   ],
   "source": [
    "##2.\n",
    "for i in pythonlist:\n",
    "    if type(i) == str:\n",
    "        Strings.append(i)\n",
    "    elif type(i) == float:\n",
    "        Floats.append(i)\n",
    "    elif type(i) == bool:\n",
    "        Booleans.append(i)\n",
    "    elif type(i) == int:\n",
    "        Ints.append(i)\n",
    "\n",
    "print('Strings =', Strings)\n",
    "print('Ints =', Ints)\n",
    "print('Floats =', Floats)\n",
    "print('Booleans =', Booleans)"
   ]
  },
  {
   "cell_type": "code",
   "execution_count": 8,
   "metadata": {},
   "outputs": [
    {
     "name": "stdout",
     "output_type": "stream",
     "text": [
      "['Adwoa', 'Ama', 'Ama', 'Folly', 'Kojo', 'Kojo', 'Kwame', 'Kwame', 'Kwesi', 'Kwesi', 'Nti', 'Pappy', 'Patty', 'Pency', 'Roland', 'Roland', 'William', 'Yhup', 'Yhup']\n",
      "[False, False, True, True]\n"
     ]
    }
   ],
   "source": [
    "##3. For the strings and booleans sets, sort the items\n",
    "\n",
    "Strings.sort()\n",
    "Booleans.sort()\n",
    "\n",
    "print(Strings)\n",
    "print(Booleans)"
   ]
  },
  {
   "cell_type": "code",
   "execution_count": 16,
   "metadata": {},
   "outputs": [
    {
     "name": "stdout",
     "output_type": "stream",
     "text": [
      "96\n",
      "87\n"
     ]
    }
   ],
   "source": [
    "##4. For the int set, print out the 3rd and 5th highest number\n",
    "\n",
    "print(sorted(Ints)[-3])\n",
    "print(sorted(Ints)[-5])"
   ]
  },
  {
   "cell_type": "code",
   "execution_count": 19,
   "metadata": {},
   "outputs": [
    {
     "name": "stdout",
     "output_type": "stream",
     "text": [
      "45.5\n"
     ]
    }
   ],
   "source": [
    "##5. For the float set, print out the 2nd largest number\n",
    "\n",
    "print(sorted(Floats)[-2])"
   ]
  }
 ],
 "metadata": {
  "kernelspec": {
   "display_name": "Python 3 (ipykernel)",
   "language": "python",
   "name": "python3"
  },
  "language_info": {
   "codemirror_mode": {
    "name": "ipython",
    "version": 3
   },
   "file_extension": ".py",
   "mimetype": "text/x-python",
   "name": "python",
   "nbconvert_exporter": "python",
   "pygments_lexer": "ipython3",
   "version": "3.9.7"
  }
 },
 "nbformat": 4,
 "nbformat_minor": 2
}
